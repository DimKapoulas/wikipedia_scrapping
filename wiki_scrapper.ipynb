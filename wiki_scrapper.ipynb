{
 "cells": [
  {
   "cell_type": "code",
   "execution_count": 2,
   "id": "b1229dc2-3d37-4a41-9a78-97d6a49ec32c",
   "metadata": {},
   "outputs": [],
   "source": [
    "from bs4 import BeautifulSoup\n",
    "import requests"
   ]
  },
  {
   "cell_type": "code",
   "execution_count": 3,
   "id": "d13f48fd-2e5e-4657-8dc5-bd0fcb2e4e2f",
   "metadata": {},
   "outputs": [],
   "source": [
    "# Get the wikipedia page containg the list\n",
    "url = 'https://en.wikipedia.org/wiki/List_of_largest_companies_in_the_United_States_by_revenue'\n",
    "page = requests.get(url)\n",
    "soup = BeautifulSoup(page.text, 'html')"
   ]
  },
  {
   "cell_type": "code",
   "execution_count": 7,
   "id": "7cfe6e68-a565-444f-91b4-b98f9735299b",
   "metadata": {},
   "outputs": [],
   "source": [
    "# Fetch the table containing the revenue sorting\n",
    "# All table on page have the same css class. The one is question is the first one --> soup.find()\n",
    "table = soup.find('table', class_='wikitable sortable')"
   ]
  },
  {
   "cell_type": "code",
   "execution_count": 17,
   "id": "399828cb-b0c5-4878-a44c-06058c56ef38",
   "metadata": {},
   "outputs": [
    {
     "data": {
      "text/plain": [
       "['Rank\\n',\n",
       " 'Name\\n',\n",
       " 'Industry\\n',\n",
       " 'Revenue (USD millions)\\n',\n",
       " 'Revenue growth\\n',\n",
       " 'Employees\\n',\n",
       " 'Headquarters\\n']"
      ]
     },
     "execution_count": 17,
     "metadata": {},
     "output_type": "execute_result"
    }
   ],
   "source": [
    "# Extract the table headers, drop html tags and special symbols\n",
    "table_headers = table.find_all('th')\n",
    "table_titles = [title.text for title in table_headers]\n",
    "table_titles."
   ]
  },
  {
   "cell_type": "code",
   "execution_count": 16,
   "id": "45982803-2b8a-4d6f-a246-4df805d8c7a6",
   "metadata": {},
   "outputs": [
    {
     "data": {
      "text/plain": [
       "'Name\\n'"
      ]
     },
     "execution_count": 16,
     "metadata": {},
     "output_type": "execute_result"
    }
   ],
   "source": [
    "table_headers[1].text"
   ]
  },
  {
   "cell_type": "code",
   "execution_count": null,
   "id": "41cb232b-3e1d-44f5-9408-270110de4906",
   "metadata": {},
   "outputs": [],
   "source": []
  }
 ],
 "metadata": {
  "kernelspec": {
   "display_name": "data311",
   "language": "python",
   "name": "data311"
  },
  "language_info": {
   "codemirror_mode": {
    "name": "ipython",
    "version": 3
   },
   "file_extension": ".py",
   "mimetype": "text/x-python",
   "name": "python",
   "nbconvert_exporter": "python",
   "pygments_lexer": "ipython3",
   "version": "3.11.5"
  }
 },
 "nbformat": 4,
 "nbformat_minor": 5
}
